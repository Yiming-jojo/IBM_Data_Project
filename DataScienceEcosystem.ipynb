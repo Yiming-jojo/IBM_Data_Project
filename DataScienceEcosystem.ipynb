{
 "cells": [
  {
   "cell_type": "markdown",
   "id": "8c60a462",
   "metadata": {},
   "source": [
    "# Data Science Tools and Ecosystem "
   ]
  },
  {
   "cell_type": "markdown",
   "id": "4d15b247",
   "metadata": {},
   "source": [
    "In this notebook, Data Science Tools and Ecosystem are summarized."
   ]
  },
  {
   "cell_type": "markdown",
   "id": "84ea6c16",
   "metadata": {},
   "source": [
    "Some of the popular languages that Data Scientists use are:\n",
    "1. R\n",
    "2. Python\n",
    "3. C++\n",
    "4. C\n",
    "5. Java"
   ]
  },
  {
   "cell_type": "markdown",
   "id": "3422fcf5",
   "metadata": {},
   "source": [
    "Some of the commonly used libraries used by Data Scientists include:\n",
    "- ggplot2\n",
    "- tensorflow\n",
    "- dplyr\n",
    "- tidyverse\n",
    "- numpy\n",
    "- matplotlib\n",
    "- pandas"
   ]
  },
  {
   "cell_type": "markdown",
   "id": "34c8e102",
   "metadata": {},
   "source": [
    "|<center> Data Science Tools </center>|\n",
    "|--------------------|\n",
    "|<center>  RStudio </center> |\n",
    "|<center> Visual Studio Code </center> |\n",
    "|<center> Jupyter Notebook </center> |"
   ]
  },
  {
   "cell_type": "markdown",
   "id": "c56d0274",
   "metadata": {},
   "source": [
    "### Below are a few examples of evaluating arithmetic expressions in Python"
   ]
  },
  {
   "cell_type": "code",
   "execution_count": 1,
   "id": "66b066b0",
   "metadata": {},
   "outputs": [
    {
     "data": {
      "text/plain": [
       "17"
      ]
     },
     "execution_count": 1,
     "metadata": {},
     "output_type": "execute_result"
    }
   ],
   "source": [
    "# This a simple arithmetic expression to mutiply then add integers\n",
    "(3*4)+5"
   ]
  },
  {
   "cell_type": "code",
   "execution_count": 3,
   "id": "65c87454",
   "metadata": {},
   "outputs": [
    {
     "name": "stdout",
     "output_type": "stream",
     "text": [
      "200 minutes is equal to 3.3333333333333335 hours.\n"
     ]
    }
   ],
   "source": [
    "# This will convert 200 minutes to hours by diving by 60\n",
    "m_to_h = 200/60\n",
    "print(f'200 minutes is equal to {m_to_h} hours.')"
   ]
  },
  {
   "cell_type": "markdown",
   "id": "b5e3f912",
   "metadata": {},
   "source": [
    "**Objectives:**\n",
    "+ List popular languages for Data Science\n",
    "+ Evaluating arithmetic expressions\n",
    "+ Commonly used libraries"
   ]
  },
  {
   "cell_type": "markdown",
   "id": "cf236b9f",
   "metadata": {},
   "source": [
    "## Author\n",
    "Yiming Li"
   ]
  }
 ],
 "metadata": {
  "kernelspec": {
   "display_name": "Python",
   "language": "python",
   "name": "conda-env-python-py"
  },
  "language_info": {
   "codemirror_mode": {
    "name": "ipython",
    "version": 3
   },
   "file_extension": ".py",
   "mimetype": "text/x-python",
   "name": "python",
   "nbconvert_exporter": "python",
   "pygments_lexer": "ipython3",
   "version": "3.7.12"
  }
 },
 "nbformat": 4,
 "nbformat_minor": 5
}
